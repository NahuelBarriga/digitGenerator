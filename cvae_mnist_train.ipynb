{
 "cells": [
  {
   "cell_type": "code",
   "execution_count": 4,
   "id": "9f5bea23",
   "metadata": {},
   "outputs": [],
   "source": [
    "# torch_cvae_train.py\n",
    "\n",
    "import torch\n",
    "import torch.nn as nn\n",
    "import torch.nn.functional as F\n",
    "from torchvision import datasets, transforms\n",
    "from torch.utils.data import DataLoader\n",
    "import matplotlib.pyplot as plt\n"
   ]
  },
  {
   "cell_type": "markdown",
   "id": "ec2c9409",
   "metadata": {},
   "source": [
    "## Checking your data folder\n",
    "Let's verify the contents of your `./data` directory to ensure the MNIST files are in the correct place."
   ]
  },
  {
   "cell_type": "code",
   "execution_count": 8,
   "id": "dd2cc530",
   "metadata": {},
   "outputs": [
    {
     "name": "stdout",
     "output_type": "stream",
     "text": [
      "Contents of ./data:\n",
      "['MNIST']\n",
      "Contents of ./data/MNIST/raw:\n",
      "['train-images.idx3-ubyte', 'train-labels.idx1-ubyte']\n"
     ]
    }
   ],
   "source": [
    "import os\n",
    "print('Contents of ./data:')\n",
    "print(os.listdir('./data'))\n",
    "if os.path.exists('./data/MNIST/raw'):\n",
    "    print('Contents of ./data/MNIST/raw:')\n",
    "    print(os.listdir('./data/MNIST/raw'))\n",
    "else:\n",
    "    print('No MNIST/raw directory found in ./data')"
   ]
  },
  {
   "cell_type": "code",
   "execution_count": 10,
   "id": "115a5a20",
   "metadata": {},
   "outputs": [
    {
     "name": "stderr",
     "output_type": "stream",
     "text": [
      "100%|██████████| 9.91M/9.91M [01:40<00:00, 99.0kB/s]\n",
      "\n",
      "100%|██████████| 28.9k/28.9k [00:00<00:00, 165kB/s]\n",
      "\n",
      "100%|██████████| 1.65M/1.65M [00:01<00:00, 1.59MB/s]\n",
      "\n",
      "100%|██████████| 4.54k/4.54k [00:00<00:00, 9.48MB/s]\n",
      "\n"
     ]
    }
   ],
   "source": [
    "# 1. Dataset and Dataloader\n",
    "transform = transforms.ToTensor()\n",
    "train_dataset = datasets.MNIST(root=\"./data\", train=True, transform=transform, download=True)\n",
    "train_loader = DataLoader(train_dataset, batch_size=128, shuffle=True)"
   ]
  },
  {
   "cell_type": "code",
   "execution_count": null,
   "id": "5f35883a",
   "metadata": {},
   "outputs": [],
   "source": [
    "\n",
    "\n",
    "\n",
    "# 2. Conditional VAE\n",
    "class CVAE(nn.Module):\n",
    "    def __init__(self, latent_dim=20):\n",
    "        super(CVAE, self).__init__()\n",
    "        self.latent_dim = latent_dim\n",
    "        self.fc1 = nn.Linear(784 + 10, 400)\n",
    "        self.fc21 = nn.Linear(400, latent_dim)\n",
    "        self.fc22 = nn.Linear(400, latent_dim)\n",
    "        self.fc3 = nn.Linear(latent_dim + 10, 400)\n",
    "        self.fc4 = nn.Linear(400, 784)\n",
    "\n",
    "    def encode(self, x, y):\n",
    "        h1 = F.relu(self.fc1(torch.cat([x, y], dim=1)))\n",
    "        return self.fc21(h1), self.fc22(h1)\n",
    "\n",
    "    def reparameterize(self, mu, logvar):\n",
    "        std = torch.exp(0.5 * logvar)\n",
    "        eps = torch.randn_like(std)\n",
    "        return mu + eps * std\n",
    "\n",
    "    def decode(self, z, y):\n",
    "        h3 = F.relu(self.fc3(torch.cat([z, y], dim=1)))\n",
    "        return torch.sigmoid(self.fc4(h3))\n",
    "\n",
    "    def forward(self, x, y):\n",
    "        mu, logvar = self.encode(x, y)\n",
    "        z = self.reparameterize(mu, logvar)\n",
    "        return self.decode(z, y), mu, logvar\n",
    "\n"
   ]
  },
  {
   "cell_type": "code",
   "execution_count": null,
   "id": "c1bd70f1",
   "metadata": {},
   "outputs": [],
   "source": [
    "# 3. Loss function\n",
    "def loss_function(recon_x, x, mu, logvar):\n",
    "    BCE = F.binary_cross_entropy(recon_x, x, reduction='sum')\n",
    "    KLD = -0.5 * torch.sum(1 + logvar - mu.pow(2) - logvar.exp())\n",
    "    return BCE + KLD\n",
    "\n"
   ]
  },
  {
   "cell_type": "code",
   "execution_count": null,
   "id": "88264b9f",
   "metadata": {},
   "outputs": [],
   "source": [
    "# 4. Training\n",
    "model = CVAE()\n",
    "optimizer = torch.optim.Adam(model.parameters(), lr=1e-3)\n",
    "device = torch.device('cuda' if torch.cuda.is_available() else 'cpu')\n",
    "model.to(device)\n",
    "\n",
    "for epoch in range(10):  # adjust epochs based on results\n",
    "    model.train()\n",
    "    train_loss = 0\n",
    "    for batch_idx, (data, labels) in enumerate(train_loader):\n",
    "        data = data.view(-1, 784).to(device)\n",
    "        labels = F.one_hot(labels, 10).float().to(device)\n",
    "        optimizer.zero_grad()\n",
    "        recon_batch, mu, logvar = model(data, labels)\n",
    "        loss = loss_function(recon_batch, data, mu, logvar)\n",
    "        loss.backward()\n",
    "        train_loss += loss.item()\n",
    "        optimizer.step()\n",
    "    print(f'Epoch {epoch}, Loss: {train_loss / len(train_loader.dataset):.4f}')\n",
    "\n",
    "torch.save(model.state_dict(), 'cvae_mnist.pth')\n"
   ]
  },
  {
   "cell_type": "code",
   "execution_count": null,
   "id": "0eeea1aa",
   "metadata": {},
   "outputs": [],
   "source": []
  }
 ],
 "metadata": {
  "language_info": {
   "name": "python"
  }
 },
 "nbformat": 4,
 "nbformat_minor": 5
}
